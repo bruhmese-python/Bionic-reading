{
 "cells": [
  {
   "cell_type": "code",
   "execution_count": 1,
   "id": "920b1c87-9487-4c5d-897b-8e5bfb131cfe",
   "metadata": {},
   "outputs": [],
   "source": [
    "import pandas as pd\n",
    "import numpy as np\n",
    "df = pd.read_csv(\"data_test.csv\")\n",
    "df = pd.concat([df,pd.read_csv(\"data_test2.csv\")],axis=0,ignore_index=True)\n",
    "df = pd.concat([df,pd.read_csv(\"data_test3.csv\")],axis=0,ignore_index=True)\n",
    "df = pd.concat([df,pd.read_csv(\"data_test4.csv\")],axis=0,ignore_index=True)"
   ]
  },
  {
   "cell_type": "code",
   "execution_count": 2,
   "id": "681e763b-d5af-4b22-b78d-23be10620618",
   "metadata": {},
   "outputs": [
    {
     "data": {
      "text/html": [
       "<div>\n",
       "<style scoped>\n",
       "    .dataframe tbody tr th:only-of-type {\n",
       "        vertical-align: middle;\n",
       "    }\n",
       "\n",
       "    .dataframe tbody tr th {\n",
       "        vertical-align: top;\n",
       "    }\n",
       "\n",
       "    .dataframe thead th {\n",
       "        text-align: right;\n",
       "    }\n",
       "</style>\n",
       "<table border=\"1\" class=\"dataframe\">\n",
       "  <thead>\n",
       "    <tr style=\"text-align: right;\">\n",
       "      <th></th>\n",
       "      <th>word</th>\n",
       "      <th>till_index</th>\n",
       "      <th>character</th>\n",
       "    </tr>\n",
       "  </thead>\n",
       "  <tbody>\n",
       "    <tr>\n",
       "      <th>0</th>\n",
       "      <td>a</td>\n",
       "      <td>0</td>\n",
       "      <td>a</td>\n",
       "    </tr>\n",
       "    <tr>\n",
       "      <th>1</th>\n",
       "      <td>aa</td>\n",
       "      <td>0</td>\n",
       "      <td>a</td>\n",
       "    </tr>\n",
       "    <tr>\n",
       "      <th>2</th>\n",
       "      <td>aaa</td>\n",
       "      <td>1</td>\n",
       "      <td>a</td>\n",
       "    </tr>\n",
       "    <tr>\n",
       "      <th>3</th>\n",
       "      <td>aah</td>\n",
       "      <td>1</td>\n",
       "      <td>a</td>\n",
       "    </tr>\n",
       "    <tr>\n",
       "      <th>4</th>\n",
       "      <td>aahed</td>\n",
       "      <td>2</td>\n",
       "      <td>h</td>\n",
       "    </tr>\n",
       "  </tbody>\n",
       "</table>\n",
       "</div>"
      ],
      "text/plain": [
       "    word  till_index character\n",
       "0      a           0         a\n",
       "1     aa           0         a\n",
       "2    aaa           1         a\n",
       "3    aah           1         a\n",
       "4  aahed           2         h"
      ]
     },
     "execution_count": 2,
     "metadata": {},
     "output_type": "execute_result"
    }
   ],
   "source": [
    "df.head()\n",
    "# need to single out the sharp sounding consonants\n",
    "# then from those consonants need to choose the best one"
   ]
  },
  {
   "cell_type": "code",
   "execution_count": 3,
   "id": "680ab869-b0da-40e9-91f5-5c4cc4ed03ee",
   "metadata": {},
   "outputs": [],
   "source": [
    "_vowels = \"aeiou\"\n",
    "_consonants = \"bcdfghjklmnpqrstvwxyz\""
   ]
  },
  {
   "cell_type": "markdown",
   "id": "43ff17ae-1389-4b79-b1b6-26d55c54e6ad",
   "metadata": {},
   "source": [
    "Consonants column"
   ]
  },
  {
   "cell_type": "code",
   "execution_count": 4,
   "id": "7f3835b5-831b-4092-93d0-581a31661b49",
   "metadata": {},
   "outputs": [],
   "source": [
    "consonants = list()\n",
    "# i need them in percents"
   ]
  },
  {
   "cell_type": "code",
   "execution_count": 5,
   "id": "1a469624-7cd7-4682-8729-96da7b28b4d1",
   "metadata": {},
   "outputs": [],
   "source": [
    "def consonants_by_interval(words_list):\n",
    "    global consonants\n",
    "    consonants = list()\n",
    "    to_percent = lambda i_range,total: round(i_range[1]/total,1)\n",
    "    for w in words_list:\n",
    "        last_cons = 0\n",
    "        _cons = list()\n",
    "        for i,c in enumerate(w):\n",
    "            if c in _consonants:\n",
    "                #_cons+=[c]\n",
    "                if last_cons!=i-1 and last_cons!=0:\n",
    "                    _cons+=[(last_cons,i)]\n",
    "                last_cons=i\n",
    "        # consonants += [_cons]\n",
    "        consonants += [[to_percent(pair,len(w)) for pair in _cons] + [1] ]  #100% (for safety)\n",
    "    consonants=pd.Series(consonants)"
   ]
  },
  {
   "cell_type": "code",
   "execution_count": 6,
   "id": "fd66f77e-fb4f-4489-9789-14e71e98cd93",
   "metadata": {},
   "outputs": [
    {
     "data": {
      "text/plain": [
       "0                     [1]\n",
       "1                     [1]\n",
       "2                     [1]\n",
       "3                     [1]\n",
       "4                [0.8, 1]\n",
       "              ...        \n",
       "295         [0.5, 0.9, 1]\n",
       "296    [0.4, 0.7, 0.9, 1]\n",
       "297         [0.4, 0.8, 1]\n",
       "298              [0.6, 1]\n",
       "299                   [1]\n",
       "Length: 300, dtype: object"
      ]
     },
     "execution_count": 6,
     "metadata": {},
     "output_type": "execute_result"
    }
   ],
   "source": [
    "consonants_by_interval(df.word)\n",
    "consonants"
   ]
  },
  {
   "cell_type": "raw",
   "id": "b6641f6c-89a5-4db0-88ff-189facd05447",
   "metadata": {},
   "source": [
    "***consonants are range-indices of consonants***"
   ]
  },
  {
   "cell_type": "code",
   "execution_count": 7,
   "id": "7c648369-0e0b-4e83-b8dc-08e7ff38a6ed",
   "metadata": {},
   "outputs": [
    {
     "data": {
      "text/html": [
       "<div>\n",
       "<style scoped>\n",
       "    .dataframe tbody tr th:only-of-type {\n",
       "        vertical-align: middle;\n",
       "    }\n",
       "\n",
       "    .dataframe tbody tr th {\n",
       "        vertical-align: top;\n",
       "    }\n",
       "\n",
       "    .dataframe thead th {\n",
       "        text-align: right;\n",
       "    }\n",
       "</style>\n",
       "<table border=\"1\" class=\"dataframe\">\n",
       "  <thead>\n",
       "    <tr style=\"text-align: right;\">\n",
       "      <th></th>\n",
       "      <th>consonants</th>\n",
       "    </tr>\n",
       "  </thead>\n",
       "  <tbody>\n",
       "    <tr>\n",
       "      <th>0</th>\n",
       "      <td>[1]</td>\n",
       "    </tr>\n",
       "    <tr>\n",
       "      <th>1</th>\n",
       "      <td>[1]</td>\n",
       "    </tr>\n",
       "    <tr>\n",
       "      <th>2</th>\n",
       "      <td>[1]</td>\n",
       "    </tr>\n",
       "    <tr>\n",
       "      <th>3</th>\n",
       "      <td>[1]</td>\n",
       "    </tr>\n",
       "    <tr>\n",
       "      <th>4</th>\n",
       "      <td>[0.8, 1]</td>\n",
       "    </tr>\n",
       "  </tbody>\n",
       "</table>\n",
       "</div>"
      ],
      "text/plain": [
       "  consonants\n",
       "0        [1]\n",
       "1        [1]\n",
       "2        [1]\n",
       "3        [1]\n",
       "4   [0.8, 1]"
      ]
     },
     "execution_count": 7,
     "metadata": {},
     "output_type": "execute_result"
    }
   ],
   "source": [
    "consonants=pd.DataFrame(consonants,columns=[\"consonants\"])\n",
    "consonants.head()"
   ]
  },
  {
   "cell_type": "code",
   "execution_count": 8,
   "id": "a989346d-7e8a-4e9e-8ea7-906bfa8481f8",
   "metadata": {},
   "outputs": [
    {
     "data": {
      "text/html": [
       "<div>\n",
       "<style scoped>\n",
       "    .dataframe tbody tr th:only-of-type {\n",
       "        vertical-align: middle;\n",
       "    }\n",
       "\n",
       "    .dataframe tbody tr th {\n",
       "        vertical-align: top;\n",
       "    }\n",
       "\n",
       "    .dataframe thead th {\n",
       "        text-align: right;\n",
       "    }\n",
       "</style>\n",
       "<table border=\"1\" class=\"dataframe\">\n",
       "  <thead>\n",
       "    <tr style=\"text-align: right;\">\n",
       "      <th></th>\n",
       "      <th>word</th>\n",
       "      <th>till_index</th>\n",
       "      <th>character</th>\n",
       "      <th>consonants</th>\n",
       "    </tr>\n",
       "  </thead>\n",
       "  <tbody>\n",
       "    <tr>\n",
       "      <th>0</th>\n",
       "      <td>a</td>\n",
       "      <td>0</td>\n",
       "      <td>a</td>\n",
       "      <td>[1]</td>\n",
       "    </tr>\n",
       "    <tr>\n",
       "      <th>1</th>\n",
       "      <td>aa</td>\n",
       "      <td>0</td>\n",
       "      <td>a</td>\n",
       "      <td>[1]</td>\n",
       "    </tr>\n",
       "    <tr>\n",
       "      <th>2</th>\n",
       "      <td>aaa</td>\n",
       "      <td>1</td>\n",
       "      <td>a</td>\n",
       "      <td>[1]</td>\n",
       "    </tr>\n",
       "    <tr>\n",
       "      <th>3</th>\n",
       "      <td>aah</td>\n",
       "      <td>1</td>\n",
       "      <td>a</td>\n",
       "      <td>[1]</td>\n",
       "    </tr>\n",
       "    <tr>\n",
       "      <th>4</th>\n",
       "      <td>aahed</td>\n",
       "      <td>2</td>\n",
       "      <td>h</td>\n",
       "      <td>[0.8, 1]</td>\n",
       "    </tr>\n",
       "  </tbody>\n",
       "</table>\n",
       "</div>"
      ],
      "text/plain": [
       "    word  till_index character consonants\n",
       "0      a           0         a        [1]\n",
       "1     aa           0         a        [1]\n",
       "2    aaa           1         a        [1]\n",
       "3    aah           1         a        [1]\n",
       "4  aahed           2         h   [0.8, 1]"
      ]
     },
     "execution_count": 8,
     "metadata": {},
     "output_type": "execute_result"
    }
   ],
   "source": [
    "df = pd.concat([df,consonants],axis=1)\n",
    "df.head()"
   ]
  },
  {
   "cell_type": "markdown",
   "id": "8eaf118e-9aaf-4449-b5ef-5798440789ee",
   "metadata": {},
   "source": [
    "Lengths column"
   ]
  },
  {
   "cell_type": "code",
   "execution_count": 9,
   "id": "cf09a6bb-725b-438a-9318-dd1be03a5e81",
   "metadata": {},
   "outputs": [],
   "source": [
    "lengths = list()\n",
    "for w in df.word:\n",
    "    lengths += [len(w)-1]"
   ]
  },
  {
   "cell_type": "code",
   "execution_count": 10,
   "id": "7ec29dcc-7502-4034-b7d4-46257cc68afd",
   "metadata": {},
   "outputs": [],
   "source": [
    "lengths = pd.Series(lengths)\n",
    "lengths = pd.DataFrame(lengths,columns=[\"total_indices\"])\n",
    "df = pd.concat([df,lengths],axis=1)"
   ]
  },
  {
   "cell_type": "markdown",
   "id": "4827df52-e49f-4ffe-af77-8c1fb614ea58",
   "metadata": {},
   "source": [
    "Universal Dataset"
   ]
  },
  {
   "cell_type": "code",
   "execution_count": 11,
   "id": "22609ef9-adca-46f2-a228-c9f1937e41b5",
   "metadata": {},
   "outputs": [
    {
     "data": {
      "text/html": [
       "<div>\n",
       "<style scoped>\n",
       "    .dataframe tbody tr th:only-of-type {\n",
       "        vertical-align: middle;\n",
       "    }\n",
       "\n",
       "    .dataframe tbody tr th {\n",
       "        vertical-align: top;\n",
       "    }\n",
       "\n",
       "    .dataframe thead th {\n",
       "        text-align: right;\n",
       "    }\n",
       "</style>\n",
       "<table border=\"1\" class=\"dataframe\">\n",
       "  <thead>\n",
       "    <tr style=\"text-align: right;\">\n",
       "      <th></th>\n",
       "      <th>word</th>\n",
       "      <th>till_index</th>\n",
       "      <th>character</th>\n",
       "      <th>consonants</th>\n",
       "      <th>total_indices</th>\n",
       "    </tr>\n",
       "  </thead>\n",
       "  <tbody>\n",
       "    <tr>\n",
       "      <th>0</th>\n",
       "      <td>a</td>\n",
       "      <td>0</td>\n",
       "      <td>a</td>\n",
       "      <td>[1]</td>\n",
       "      <td>0</td>\n",
       "    </tr>\n",
       "    <tr>\n",
       "      <th>1</th>\n",
       "      <td>aa</td>\n",
       "      <td>0</td>\n",
       "      <td>a</td>\n",
       "      <td>[1]</td>\n",
       "      <td>1</td>\n",
       "    </tr>\n",
       "    <tr>\n",
       "      <th>2</th>\n",
       "      <td>aaa</td>\n",
       "      <td>1</td>\n",
       "      <td>a</td>\n",
       "      <td>[1]</td>\n",
       "      <td>2</td>\n",
       "    </tr>\n",
       "    <tr>\n",
       "      <th>3</th>\n",
       "      <td>aah</td>\n",
       "      <td>1</td>\n",
       "      <td>a</td>\n",
       "      <td>[1]</td>\n",
       "      <td>2</td>\n",
       "    </tr>\n",
       "    <tr>\n",
       "      <th>4</th>\n",
       "      <td>aahed</td>\n",
       "      <td>2</td>\n",
       "      <td>h</td>\n",
       "      <td>[0.8, 1]</td>\n",
       "      <td>4</td>\n",
       "    </tr>\n",
       "    <tr>\n",
       "      <th>...</th>\n",
       "      <td>...</td>\n",
       "      <td>...</td>\n",
       "      <td>...</td>\n",
       "      <td>...</td>\n",
       "      <td>...</td>\n",
       "    </tr>\n",
       "    <tr>\n",
       "      <th>295</th>\n",
       "      <td>abductor</td>\n",
       "      <td>3</td>\n",
       "      <td>u</td>\n",
       "      <td>[0.5, 0.9, 1]</td>\n",
       "      <td>7</td>\n",
       "    </tr>\n",
       "    <tr>\n",
       "      <th>296</th>\n",
       "      <td>abductores</td>\n",
       "      <td>3</td>\n",
       "      <td>u</td>\n",
       "      <td>[0.4, 0.7, 0.9, 1]</td>\n",
       "      <td>9</td>\n",
       "    </tr>\n",
       "    <tr>\n",
       "      <th>297</th>\n",
       "      <td>abductors</td>\n",
       "      <td>3</td>\n",
       "      <td>u</td>\n",
       "      <td>[0.4, 0.8, 1]</td>\n",
       "      <td>8</td>\n",
       "    </tr>\n",
       "    <tr>\n",
       "      <th>298</th>\n",
       "      <td>abducts</td>\n",
       "      <td>1</td>\n",
       "      <td>b</td>\n",
       "      <td>[0.6, 1]</td>\n",
       "      <td>6</td>\n",
       "    </tr>\n",
       "    <tr>\n",
       "      <th>299</th>\n",
       "      <td>abe</td>\n",
       "      <td>1</td>\n",
       "      <td>b</td>\n",
       "      <td>[1]</td>\n",
       "      <td>2</td>\n",
       "    </tr>\n",
       "  </tbody>\n",
       "</table>\n",
       "<p>300 rows × 5 columns</p>\n",
       "</div>"
      ],
      "text/plain": [
       "           word  till_index character          consonants  total_indices\n",
       "0             a           0         a                 [1]              0\n",
       "1            aa           0         a                 [1]              1\n",
       "2           aaa           1         a                 [1]              2\n",
       "3           aah           1         a                 [1]              2\n",
       "4         aahed           2         h            [0.8, 1]              4\n",
       "..          ...         ...       ...                 ...            ...\n",
       "295    abductor           3         u       [0.5, 0.9, 1]              7\n",
       "296  abductores           3         u  [0.4, 0.7, 0.9, 1]              9\n",
       "297   abductors           3         u       [0.4, 0.8, 1]              8\n",
       "298     abducts           1         b            [0.6, 1]              6\n",
       "299         abe           1         b                 [1]              2\n",
       "\n",
       "[300 rows x 5 columns]"
      ]
     },
     "execution_count": 11,
     "metadata": {},
     "output_type": "execute_result"
    }
   ],
   "source": [
    "df"
   ]
  },
  {
   "cell_type": "code",
   "execution_count": 12,
   "id": "05d18ccf-176b-4345-8a9a-2fcc20bb9574",
   "metadata": {},
   "outputs": [],
   "source": [
    "import matplotlib.pyplot as plt"
   ]
  },
  {
   "cell_type": "code",
   "execution_count": 13,
   "id": "5335e33e-7de4-4903-a6e8-390abc2abda9",
   "metadata": {},
   "outputs": [
    {
     "data": {
      "text/html": [
       "<div>\n",
       "<style scoped>\n",
       "    .dataframe tbody tr th:only-of-type {\n",
       "        vertical-align: middle;\n",
       "    }\n",
       "\n",
       "    .dataframe tbody tr th {\n",
       "        vertical-align: top;\n",
       "    }\n",
       "\n",
       "    .dataframe thead th {\n",
       "        text-align: right;\n",
       "    }\n",
       "</style>\n",
       "<table border=\"1\" class=\"dataframe\">\n",
       "  <thead>\n",
       "    <tr style=\"text-align: right;\">\n",
       "      <th></th>\n",
       "      <th>0</th>\n",
       "      <th>1</th>\n",
       "      <th>2</th>\n",
       "      <th>3</th>\n",
       "      <th>4</th>\n",
       "      <th>5</th>\n",
       "      <th>6</th>\n",
       "      <th>7</th>\n",
       "      <th>8</th>\n",
       "      <th>9</th>\n",
       "      <th>...</th>\n",
       "      <th>290</th>\n",
       "      <th>291</th>\n",
       "      <th>292</th>\n",
       "      <th>293</th>\n",
       "      <th>294</th>\n",
       "      <th>295</th>\n",
       "      <th>296</th>\n",
       "      <th>297</th>\n",
       "      <th>298</th>\n",
       "      <th>299</th>\n",
       "    </tr>\n",
       "  </thead>\n",
       "  <tbody>\n",
       "    <tr>\n",
       "      <th>total_indices</th>\n",
       "      <td>0</td>\n",
       "      <td>1</td>\n",
       "      <td>2</td>\n",
       "      <td>2</td>\n",
       "      <td>4</td>\n",
       "      <td>5</td>\n",
       "      <td>3</td>\n",
       "      <td>2</td>\n",
       "      <td>4</td>\n",
       "      <td>5</td>\n",
       "      <td>...</td>\n",
       "      <td>5</td>\n",
       "      <td>7</td>\n",
       "      <td>8</td>\n",
       "      <td>8</td>\n",
       "      <td>9</td>\n",
       "      <td>7</td>\n",
       "      <td>9</td>\n",
       "      <td>8</td>\n",
       "      <td>6</td>\n",
       "      <td>2</td>\n",
       "    </tr>\n",
       "    <tr>\n",
       "      <th>till_index</th>\n",
       "      <td>0</td>\n",
       "      <td>0</td>\n",
       "      <td>1</td>\n",
       "      <td>1</td>\n",
       "      <td>2</td>\n",
       "      <td>2</td>\n",
       "      <td>2</td>\n",
       "      <td>1</td>\n",
       "      <td>2</td>\n",
       "      <td>3</td>\n",
       "      <td>...</td>\n",
       "      <td>1</td>\n",
       "      <td>3</td>\n",
       "      <td>3</td>\n",
       "      <td>3</td>\n",
       "      <td>3</td>\n",
       "      <td>3</td>\n",
       "      <td>3</td>\n",
       "      <td>3</td>\n",
       "      <td>1</td>\n",
       "      <td>1</td>\n",
       "    </tr>\n",
       "  </tbody>\n",
       "</table>\n",
       "<p>2 rows × 300 columns</p>\n",
       "</div>"
      ],
      "text/plain": [
       "               0    1    2    3    4    5    6    7    8    9    ...  290  \\\n",
       "total_indices    0    1    2    2    4    5    3    2    4    5  ...    5   \n",
       "till_index       0    0    1    1    2    2    2    1    2    3  ...    1   \n",
       "\n",
       "               291  292  293  294  295  296  297  298  299  \n",
       "total_indices    7    8    8    9    7    9    8    6    2  \n",
       "till_index       3    3    3    3    3    3    3    1    1  \n",
       "\n",
       "[2 rows x 300 columns]"
      ]
     },
     "execution_count": 13,
     "metadata": {},
     "output_type": "execute_result"
    }
   ],
   "source": [
    "pd.DataFrame([df.total_indices,df.till_index])"
   ]
  },
  {
   "cell_type": "code",
   "execution_count": 14,
   "id": "c01a92cd-53ed-4ad7-8ff0-bcdde1ec71ca",
   "metadata": {},
   "outputs": [
    {
     "data": {
      "text/plain": [
       "<matplotlib.collections.PathCollection at 0x7fd7f513b2e0>"
      ]
     },
     "execution_count": 14,
     "metadata": {},
     "output_type": "execute_result"
    },
    {
     "data": {
      "image/png": "[encoded data removed]",
      "text/plain": [
       "<Figure size 640x480 with 1 Axes>"
      ]
     },
     "metadata": {},
     "output_type": "display_data"
    }
   ],
   "source": [
    "plt.xlabel(\"total_indices\")\n",
    "plt.ylabel(\"till_index\")\n",
    "plt.scatter(df.total_indices,df.till_index)"
   ]
  },
  {
   "cell_type": "markdown",
   "id": "500a7ac5-d16b-4082-8543-aaafb87e30a4",
   "metadata": {},
   "source": [
    "Basic model"
   ]
  },
  {
   "cell_type": "raw",
   "id": "62197b4b-1e5e-46a8-b89a-2df7043fcb2d",
   "metadata": {},
   "source": [
    "[input: length, output: till_index]"
   ]
  },
  {
   "cell_type": "code",
   "execution_count": 15,
   "id": "63a22780-c791-4015-9886-19b6da9fe52c",
   "metadata": {},
   "outputs": [],
   "source": [
    "from sklearn.model_selection import train_test_split\n",
    "#train_x,test_x,train_y,test_y = train_test_split()"
   ]
  },
  {
   "cell_type": "code",
   "execution_count": 16,
   "id": "6eb77651-4585-404f-bffb-8b939697c8d6",
   "metadata": {},
   "outputs": [
    {
     "data": {
      "text/html": [
       "<style>#sk-container-id-1 {\n",
       "  /* Definition of color scheme common for light and dark mode */\n",
       "  --sklearn-color-text: black;\n",
       "  --sklearn-color-line: gray;\n",
       "  /* Definition of color scheme for unfitted estimators */\n",
       "  --sklearn-color-unfitted-level-0: #fff5e6;\n",
       "  --sklearn-color-unfitted-level-1: #f6e4d2;\n",
       "  --sklearn-color-unfitted-level-2: #ffe0b3;\n",
       "  --sklearn-color-unfitted-level-3: chocolate;\n",
       "  /* Definition of color scheme for fitted estimators */\n",
       "  --sklearn-color-fitted-level-0: #f0f8ff;\n",
       "  --sklearn-color-fitted-level-1: #d4ebff;\n",
       "  --sklearn-color-fitted-level-2: #b3dbfd;\n",
       "  --sklearn-color-fitted-level-3: cornflowerblue;\n",
       "\n",
       "  /* Specific color for light theme */\n",
       "  --sklearn-color-text-on-default-background: var(--sg-text-color, var(--theme-code-foreground, var(--jp-content-font-color1, black)));\n",
       "  --sklearn-color-background: var(--sg-background-color, var(--theme-background, var(--jp-layout-color0, white)));\n",
       "  --sklearn-color-border-box: var(--sg-text-color, var(--theme-code-foreground, var(--jp-content-font-color1, black)));\n",
       "  --sklearn-color-icon: #696969;\n",
       "\n",
       "  @media (prefers-color-scheme: dark) {\n",
       "    /* Redefinition of color scheme for dark theme */\n",
       "    --sklearn-color-text-on-default-background: var(--sg-text-color, var(--theme-code-foreground, var(--jp-content-font-color1, white)));\n",
       "    --sklearn-color-background: var(--sg-background-color, var(--theme-background, var(--jp-layout-color0, #111)));\n",
       "    --sklearn-color-border-box: var(--sg-text-color, var(--theme-code-foreground, var(--jp-content-font-color1, white)));\n",
       "    --sklearn-color-icon: #878787;\n",
       "  }\n",
       "}\n",
       "\n",
       "#sk-container-id-1 {\n",
       "  color: var(--sklearn-color-text);\n",
       "}\n",
       "\n",
       "#sk-container-id-1 pre {\n",
       "  padding: 0;\n",
       "}\n",
       "\n",
       "#sk-container-id-1 input.sk-hidden--visually {\n",
       "  border: 0;\n",
       "  clip: rect(1px 1px 1px 1px);\n",
       "  clip: rect(1px, 1px, 1px, 1px);\n",
       "  height: 1px;\n",
       "  margin: -1px;\n",
       "  overflow: hidden;\n",
       "  padding: 0;\n",
       "  position: absolute;\n",
       "  width: 1px;\n",
       "}\n",
       "\n",
       "#sk-container-id-1 div.sk-dashed-wrapped {\n",
       "  border: 1px dashed var(--sklearn-color-line);\n",
       "  margin: 0 0.4em 0.5em 0.4em;\n",
       "  box-sizing: border-box;\n",
       "  padding-bottom: 0.4em;\n",
       "  background-color: var(--sklearn-color-background);\n",
       "}\n",
       "\n",
       "#sk-container-id-1 div.sk-container {\n",
       "  /* jupyter's `normalize.less` sets `[hidden] { display: none; }`\n",
       "     but bootstrap.min.css set `[hidden] { display: none !important; }`\n",
       "     so we also need the `!important` here to be able to override the\n",
       "     default hidden behavior on the sphinx rendered scikit-learn.org.\n",
       "     See: https://github.com/scikit-learn/scikit-learn/issues/21755 */\n",
       "  display: inline-block !important;\n",
       "  position: relative;\n",
       "}\n",
       "\n",
       "#sk-container-id-1 div.sk-text-repr-fallback {\n",
       "  display: none;\n",
       "}\n",
       "\n",
       "div.sk-parallel-item,\n",
       "div.sk-serial,\n",
       "div.sk-item {\n",
       "  /* draw centered vertical line to link estimators */\n",
       "  background-image: linear-gradient(var(--sklearn-color-text-on-default-background), var(--sklearn-color-text-on-default-background));\n",
       "  background-size: 2px 100%;\n",
       "  background-repeat: no-repeat;\n",
       "  background-position: center center;\n",
       "}\n",
       "\n",
       "/* Parallel-specific style estimator block */\n",
       "\n",
       "#sk-container-id-1 div.sk-parallel-item::after {\n",
       "  content: \"\";\n",
       "  width: 100%;\n",
       "  border-bottom: 2px solid var(--sklearn-color-text-on-default-background);\n",
       "  flex-grow: 1;\n",
       "}\n",
       "\n",
       "#sk-container-id-1 div.sk-parallel {\n",
       "  display: flex;\n",
       "  align-items: stretch;\n",
       "  justify-content: center;\n",
       "  background-color: var(--sklearn-color-background);\n",
       "  position: relative;\n",
       "}\n",
       "\n",
       "#sk-container-id-1 div.sk-parallel-item {\n",
       "  display: flex;\n",
       "  flex-direction: column;\n",
       "}\n",
       "\n",
       "#sk-container-id-1 div.sk-parallel-item:first-child::after {\n",
       "  align-self: flex-end;\n",
       "  width: 50%;\n",
       "}\n",
       "\n",
       "#sk-container-id-1 div.sk-parallel-item:last-child::after {\n",
       "  align-self: flex-start;\n",
       "  width: 50%;\n",
       "}\n",
       "\n",
       "#sk-container-id-1 div.sk-parallel-item:only-child::after {\n",
       "  width: 0;\n",
       "}\n",
       "\n",
       "/* Serial-specific style estimator block */\n",
       "\n",
       "#sk-container-id-1 div.sk-serial {\n",
       "  display: flex;\n",
       "  flex-direction: column;\n",
       "  align-items: center;\n",
       "  background-color: var(--sklearn-color-background);\n",
       "  padding-right: 1em;\n",
       "  padding-left: 1em;\n",
       "}\n",
       "\n",
       "\n",
       "/* Toggleable style: style used for estimator/Pipeline/ColumnTransformer box that is\n",
       "clickable and can be expanded/collapsed.\n",
       "- Pipeline and ColumnTransformer use this feature and define the default style\n",
       "- Estimators will overwrite some part of the style using the `sk-estimator` class\n",
       "*/\n",
       "\n",
       "/* Pipeline and ColumnTransformer style (default) */\n",
       "\n",
       "#sk-container-id-1 div.sk-toggleable {\n",
       "  /* Default theme specific background. It is overwritten whether we have a\n",
       "  specific estimator or a Pipeline/ColumnTransformer */\n",
       "  background-color: var(--sklearn-color-background);\n",
       "}\n",
       "\n",
       "/* Toggleable label */\n",
       "#sk-container-id-1 label.sk-toggleable__label {\n",
       "  cursor: pointer;\n",
       "  display: block;\n",
       "  width: 100%;\n",
       "  margin-bottom: 0;\n",
       "  padding: 0.5em;\n",
       "  box-sizing: border-box;\n",
       "  text-align: center;\n",
       "}\n",
       "\n",
       "#sk-container-id-1 label.sk-toggleable__label-arrow:before {\n",
       "  /* Arrow on the left of the label */\n",
       "  content: \"▸\";\n",
       "  float: left;\n",
       "  margin-right: 0.25em;\n",
       "  color: var(--sklearn-color-icon);\n",
       "}\n",
       "\n",
       "#sk-container-id-1 label.sk-toggleable__label-arrow:hover:before {\n",
       "  color: var(--sklearn-color-text);\n",
       "}\n",
       "\n",
       "/* Toggleable content - dropdown */\n",
       "\n",
       "#sk-container-id-1 div.sk-toggleable__content {\n",
       "  max-height: 0;\n",
       "  max-width: 0;\n",
       "  overflow: hidden;\n",
       "  text-align: left;\n",
       "  /* unfitted */\n",
       "  background-color: var(--sklearn-color-unfitted-level-0);\n",
       "}\n",
       "\n",
       "#sk-container-id-1 div.sk-toggleable__content.fitted {\n",
       "  /* fitted */\n",
       "  background-color: var(--sklearn-color-fitted-level-0);\n",
       "}\n",
       "\n",
       "#sk-container-id-1 div.sk-toggleable__content pre {\n",
       "  margin: 0.2em;\n",
       "  border-radius: 0.25em;\n",
       "  color: var(--sklearn-color-text);\n",
       "  /* unfitted */\n",
       "  background-color: var(--sklearn-color-unfitted-level-0);\n",
       "}\n",
       "\n",
       "#sk-container-id-1 div.sk-toggleable__content.fitted pre {\n",
       "  /* unfitted */\n",
       "  background-color: var(--sklearn-color-fitted-level-0);\n",
       "}\n",
       "\n",
       "#sk-container-id-1 input.sk-toggleable__control:checked~div.sk-toggleable__content {\n",
       "  /* Expand drop-down */\n",
       "  max-height: 200px;\n",
       "  max-width: 100%;\n",
       "  overflow: auto;\n",
       "}\n",
       "\n",
       "#sk-container-id-1 input.sk-toggleable__control:checked~label.sk-toggleable__label-arrow:before {\n",
       "  content: \"▾\";\n",
       "}\n",
       "\n",
       "/* Pipeline/ColumnTransformer-specific style */\n",
       "\n",
       "#sk-container-id-1 div.sk-label input.sk-toggleable__control:checked~label.sk-toggleable__label {\n",
       "  color: var(--sklearn-color-text);\n",
       "  background-color: var(--sklearn-color-unfitted-level-2);\n",
       "}\n",
       "\n",
       "#sk-container-id-1 div.sk-label.fitted input.sk-toggleable__control:checked~label.sk-toggleable__label {\n",
       "  background-color: var(--sklearn-color-fitted-level-2);\n",
       "}\n",
       "\n",
       "/* Estimator-specific style */\n",
       "\n",
       "/* Colorize estimator box */\n",
       "#sk-container-id-1 div.sk-estimator input.sk-toggleable__control:checked~label.sk-toggleable__label {\n",
       "  /* unfitted */\n",
       "  background-color: var(--sklearn-color-unfitted-level-2);\n",
       "}\n",
       "\n",
       "#sk-container-id-1 div.sk-estimator.fitted input.sk-toggleable__control:checked~label.sk-toggleable__label {\n",
       "  /* fitted */\n",
       "  background-color: var(--sklearn-color-fitted-level-2);\n",
       "}\n",
       "\n",
       "#sk-container-id-1 div.sk-label label.sk-toggleable__label,\n",
       "#sk-container-id-1 div.sk-label label {\n",
       "  /* The background is the default theme color */\n",
       "  color: var(--sklearn-color-text-on-default-background);\n",
       "}\n",
       "\n",
       "/* On hover, darken the color of the background */\n",
       "#sk-container-id-1 div.sk-label:hover label.sk-toggleable__label {\n",
       "  color: var(--sklearn-color-text);\n",
       "  background-color: var(--sklearn-color-unfitted-level-2);\n",
       "}\n",
       "\n",
       "/* Label box, darken color on hover, fitted */\n",
       "#sk-container-id-1 div.sk-label.fitted:hover label.sk-toggleable__label.fitted {\n",
       "  color: var(--sklearn-color-text);\n",
       "  background-color: var(--sklearn-color-fitted-level-2);\n",
       "}\n",
       "\n",
       "/* Estimator label */\n",
       "\n",
       "#sk-container-id-1 div.sk-label label {\n",
       "  font-family: monospace;\n",
       "  font-weight: bold;\n",
       "  display: inline-block;\n",
       "  line-height: 1.2em;\n",
       "}\n",
       "\n",
       "#sk-container-id-1 div.sk-label-container {\n",
       "  text-align: center;\n",
       "}\n",
       "\n",
       "/* Estimator-specific */\n",
       "#sk-container-id-1 div.sk-estimator {\n",
       "  font-family: monospace;\n",
       "  border: 1px dotted var(--sklearn-color-border-box);\n",
       "  border-radius: 0.25em;\n",
       "  box-sizing: border-box;\n",
       "  margin-bottom: 0.5em;\n",
       "  /* unfitted */\n",
       "  background-color: var(--sklearn-color-unfitted-level-0);\n",
       "}\n",
       "\n",
       "#sk-container-id-1 div.sk-estimator.fitted {\n",
       "  /* fitted */\n",
       "  background-color: var(--sklearn-color-fitted-level-0);\n",
       "}\n",
       "\n",
       "/* on hover */\n",
       "#sk-container-id-1 div.sk-estimator:hover {\n",
       "  /* unfitted */\n",
       "  background-color: var(--sklearn-color-unfitted-level-2);\n",
       "}\n",
       "\n",
       "#sk-container-id-1 div.sk-estimator.fitted:hover {\n",
       "  /* fitted */\n",
       "  background-color: var(--sklearn-color-fitted-level-2);\n",
       "}\n",
       "\n",
       "/* Specification for estimator info (e.g. \"i\" and \"?\") */\n",
       "\n",
       "/* Common style for \"i\" and \"?\" */\n",
       "\n",
       ".sk-estimator-doc-link,\n",
       "a:link.sk-estimator-doc-link,\n",
       "a:visited.sk-estimator-doc-link {\n",
       "  float: right;\n",
       "  font-size: smaller;\n",
       "  line-height: 1em;\n",
       "  font-family: monospace;\n",
       "  background-color: var(--sklearn-color-background);\n",
       "  border-radius: 1em;\n",
       "  height: 1em;\n",
       "  width: 1em;\n",
       "  text-decoration: none !important;\n",
       "  margin-left: 1ex;\n",
       "  /* unfitted */\n",
       "  border: var(--sklearn-color-unfitted-level-1) 1pt solid;\n",
       "  color: var(--sklearn-color-unfitted-level-1);\n",
       "}\n",
       "\n",
       ".sk-estimator-doc-link.fitted,\n",
       "a:link.sk-estimator-doc-link.fitted,\n",
       "a:visited.sk-estimator-doc-link.fitted {\n",
       "  /* fitted */\n",
       "  border: var(--sklearn-color-fitted-level-1) 1pt solid;\n",
       "  color: var(--sklearn-color-fitted-level-1);\n",
       "}\n",
       "\n",
       "/* On hover */\n",
       "div.sk-estimator:hover .sk-estimator-doc-link:hover,\n",
       ".sk-estimator-doc-link:hover,\n",
       "div.sk-label-container:hover .sk-estimator-doc-link:hover,\n",
       ".sk-estimator-doc-link:hover {\n",
       "  /* unfitted */\n",
       "  background-color: var(--sklearn-color-unfitted-level-3);\n",
       "  color: var(--sklearn-color-background);\n",
       "  text-decoration: none;\n",
       "}\n",
       "\n",
       "div.sk-estimator.fitted:hover .sk-estimator-doc-link.fitted:hover,\n",
       ".sk-estimator-doc-link.fitted:hover,\n",
       "div.sk-label-container:hover .sk-estimator-doc-link.fitted:hover,\n",
       ".sk-estimator-doc-link.fitted:hover {\n",
       "  /* fitted */\n",
       "  background-color: var(--sklearn-color-fitted-level-3);\n",
       "  color: var(--sklearn-color-background);\n",
       "  text-decoration: none;\n",
       "}\n",
       "\n",
       "/* Span, style for the box shown on hovering the info icon */\n",
       ".sk-estimator-doc-link span {\n",
       "  display: none;\n",
       "  z-index: 9999;\n",
       "  position: relative;\n",
       "  font-weight: normal;\n",
       "  right: .2ex;\n",
       "  padding: .5ex;\n",
       "  margin: .5ex;\n",
       "  width: min-content;\n",
       "  min-width: 20ex;\n",
       "  max-width: 50ex;\n",
       "  color: var(--sklearn-color-text);\n",
       "  box-shadow: 2pt 2pt 4pt #999;\n",
       "  /* unfitted */\n",
       "  background: var(--sklearn-color-unfitted-level-0);\n",
       "  border: .5pt solid var(--sklearn-color-unfitted-level-3);\n",
       "}\n",
       "\n",
       ".sk-estimator-doc-link.fitted span {\n",
       "  /* fitted */\n",
       "  background: var(--sklearn-color-fitted-level-0);\n",
       "  border: var(--sklearn-color-fitted-level-3);\n",
       "}\n",
       "\n",
       ".sk-estimator-doc-link:hover span {\n",
       "  display: block;\n",
       "}\n",
       "\n",
       "/* \"?\"-specific style due to the `<a>` HTML tag */\n",
       "\n",
       "#sk-container-id-1 a.estimator_doc_link {\n",
       "  float: right;\n",
       "  font-size: 1rem;\n",
       "  line-height: 1em;\n",
       "  font-family: monospace;\n",
       "  background-color: var(--sklearn-color-background);\n",
       "  border-radius: 1rem;\n",
       "  height: 1rem;\n",
       "  width: 1rem;\n",
       "  text-decoration: none;\n",
       "  /* unfitted */\n",
       "  color: var(--sklearn-color-unfitted-level-1);\n",
       "  border: var(--sklearn-color-unfitted-level-1) 1pt solid;\n",
       "}\n",
       "\n",
       "#sk-container-id-1 a.estimator_doc_link.fitted {\n",
       "  /* fitted */\n",
       "  border: var(--sklearn-color-fitted-level-1) 1pt solid;\n",
       "  color: var(--sklearn-color-fitted-level-1);\n",
       "}\n",
       "\n",
       "/* On hover */\n",
       "#sk-container-id-1 a.estimator_doc_link:hover {\n",
       "  /* unfitted */\n",
       "  background-color: var(--sklearn-color-unfitted-level-3);\n",
       "  color: var(--sklearn-color-background);\n",
       "  text-decoration: none;\n",
       "}\n",
       "\n",
       "#sk-container-id-1 a.estimator_doc_link.fitted:hover {\n",
       "  /* fitted */\n",
       "  background-color: var(--sklearn-color-fitted-level-3);\n",
       "}\n",
       "</style><div id=\"sk-container-id-1\" class=\"sk-top-container\"><div class=\"sk-text-repr-fallback\"><pre>LinearRegression()</pre><b>In a Jupyter environment, please rerun this cell to show the HTML representation or trust the notebook. <br />On GitHub, the HTML representation is unable to render, please try loading this page with nbviewer.org.</b></div><div class=\"sk-container\" hidden><div class=\"sk-item\"><div class=\"sk-estimator fitted sk-toggleable\"><input class=\"sk-toggleable__control sk-hidden--visually\" id=\"sk-estimator-id-1\" type=\"checkbox\" checked><label for=\"sk-estimator-id-1\" class=\"sk-toggleable__label fitted sk-toggleable__label-arrow fitted\">&nbsp;&nbsp;LinearRegression<a class=\"sk-estimator-doc-link fitted\" rel=\"noreferrer\" target=\"_blank\" href=\"https://scikit-learn.org/1.4/modules/generated/sklearn.linear_model.LinearRegression.html\">?<span>Documentation for LinearRegression</span></a><span class=\"sk-estimator-doc-link fitted\">i<span>Fitted</span></span></label><div class=\"sk-toggleable__content fitted\"><pre>LinearRegression()</pre></div> </div></div></div></div>"
      ],
      "text/plain": [
       "LinearRegression()"
      ]
     },
     "execution_count": 16,
     "metadata": {},
     "output_type": "execute_result"
    }
   ],
   "source": [
    "from sklearn.linear_model import LinearRegression\n",
    "word_length_prediction_model=LinearRegression()\n",
    "word_length_prediction_model.fit(df[[\"total_indices\"]],df[[\"till_index\"]])"
   ]
  },
  {
   "cell_type": "code",
   "execution_count": 17,
   "id": "0ffcc67d-ba93-4f97-a7be-328d498bcee2",
   "metadata": {},
   "outputs": [
    {
     "name": "stderr",
     "output_type": "stream",
     "text": [
      "/home/admin/.local/lib/python3.9/site-packages/sklearn/base.py:493: UserWarning: X does not have valid feature names, but LinearRegression was fitted with feature names\n",
      "  warnings.warn(\n"
     ]
    },
    {
     "data": {
      "text/plain": [
       "[2, 3, 4]"
      ]
     },
     "execution_count": 17,
     "metadata": {},
     "output_type": "execute_result"
    }
   ],
   "source": [
    "p = word_length_prediction_model.predict([[3],[8],[12]])\n",
    "[round(_p[0]) for _p in p]"
   ]
  },
  {
   "cell_type": "markdown",
   "id": "938585fb-1c46-496c-9877-ac0f550ecfbb",
   "metadata": {},
   "source": [
    "Consonants Preprocessing"
   ]
  },
  {
   "cell_type": "code",
   "execution_count": 18,
   "id": "281e83b4-f07c-42ec-84ec-1db9ea4298ab",
   "metadata": {},
   "outputs": [],
   "source": [
    "df1 = pd.concat([df.till_index,df.consonants],axis=1)"
   ]
  },
  {
   "cell_type": "code",
   "execution_count": 19,
   "id": "759e2941-f30b-4822-8bb3-4d53862418cb",
   "metadata": {},
   "outputs": [],
   "source": [
    "filtered_consonant_positions = df1[df1['consonants'].apply(lambda x: len(x) > 0)]"
   ]
  },
  {
   "cell_type": "raw",
   "id": "78b5499c-1b22-4d4a-aba8-36beac701c1f",
   "metadata": {},
   "source": [
    "Ravelling and labelling"
   ]
  },
  {
   "cell_type": "code",
   "execution_count": 20,
   "id": "c52729d0-936e-45ef-8558-5c29ff875936",
   "metadata": {},
   "outputs": [],
   "source": [
    "# LabelEncoder does not working\n",
    "from itertools import chain\n",
    "#python chaining pandas ravelled list collection\n",
    "flattened_consonant_ranges = pd.Series(list(chain(*filtered_consonant_positions.consonants.ravel())))"
   ]
  },
  {
   "cell_type": "code",
   "execution_count": 21,
   "id": "95fb4b95-f582-49d1-890e-b74528a99c95",
   "metadata": {},
   "outputs": [],
   "source": [
    "#flattened_consonant_ranges"
   ]
  },
  {
   "cell_type": "code",
   "execution_count": 22,
   "id": "910ae291-aa79-4c21-9713-0cf344db4001",
   "metadata": {},
   "outputs": [],
   "source": [
    "percent_to_int_map = {}\n",
    "int_to_percent_map = {}\n",
    "current_int = 0\n",
    "\n",
    "for percent in flattened_consonant_ranges:\n",
    "    if percent not in percent_to_int_map:\n",
    "        percent_to_int_map[percent] = current_int\n",
    "        current_int += 1\n",
    "\n",
    "for p in percent_to_int_map:\n",
    "    int_to_percent_map[percent_to_int_map[p]] = p"
   ]
  },
  {
   "cell_type": "code",
   "execution_count": 23,
   "id": "91f6dd28-14d8-494a-9260-788df853aee2",
   "metadata": {},
   "outputs": [
    {
     "data": {
      "text/plain": [
       "{1.0: 0, 0.8: 1, 0.7: 2, 0.6: 3, 0.9: 4, 0.4: 5, 0.5: 6, 0.3: 7, 0.2: 8}"
      ]
     },
     "execution_count": 23,
     "metadata": {},
     "output_type": "execute_result"
    }
   ],
   "source": [
    "percent_to_int_map"
   ]
  },
  {
   "cell_type": "code",
   "execution_count": 24,
   "id": "cbafb351-1d04-49cd-95d8-777776bc9e51",
   "metadata": {},
   "outputs": [],
   "source": [
    "consonant_group = list()\n",
    "index = 0\n",
    "\n",
    "to_percent = lambda val,total: val/total\n",
    "\n",
    "#print(\"till_index, word, till_index to percent, falls in percent of\")\n",
    "for i in df1.till_index:\n",
    "    for percent in df1.consonants[index]:\n",
    "        word=df.word[index]\n",
    "        till_index_to_percent = to_percent(i + 1,len(word))\n",
    "        #if i in range(_range[0],_range[1]):\n",
    "        if till_index_to_percent<=percent:\n",
    "            #print(i,word,till_index_to_percent,percent) #i+1 for index to value|\n",
    "            #registering closest percent\n",
    "            consonant_group += [percent_to_int_map[percent]]\n",
    "            break\n",
    "    index+=1\n",
    "consonant_group = pd.Series(consonant_group)"
   ]
  },
  {
   "cell_type": "code",
   "execution_count": 25,
   "id": "2f5c3de2-e1bc-4e38-bbd9-33cfe4ca5a88",
   "metadata": {},
   "outputs": [
    {
     "data": {
      "text/plain": [
       "0    0\n",
       "1    0\n",
       "2    0\n",
       "3    0\n",
       "4    1\n",
       "dtype: int64"
      ]
     },
     "execution_count": 25,
     "metadata": {},
     "output_type": "execute_result"
    }
   ],
   "source": [
    "consonant_group [:5]"
   ]
  },
  {
   "cell_type": "markdown",
   "id": "0fcae87b-209e-4349-989b-ee9f8396f106",
   "metadata": {},
   "source": [
    "Decision Trees"
   ]
  },
  {
   "cell_type": "raw",
   "id": "20f001ce-1972-4f87-9a11-18bac37c280c",
   "metadata": {},
   "source": [
    "want [input: consonant groups, consonant_group]"
   ]
  },
  {
   "cell_type": "code",
   "execution_count": 26,
   "id": "e6915f89-4b7b-4f33-bcbc-975077947ae6",
   "metadata": {},
   "outputs": [],
   "source": [
    "def summarize(percentages):\n",
    "    result = 0\n",
    "    for p in percentages:\n",
    "        result += result*10 + p*10\n",
    "    return int(result)"
   ]
  },
  {
   "cell_type": "code",
   "execution_count": 27,
   "id": "d3f6fd2f-3a6a-437b-9455-a7d5ef1acac4",
   "metadata": {},
   "outputs": [
    {
     "name": "stdout",
     "output_type": "stream",
     "text": [
      "0    10\n",
      "1    10\n",
      "2    10\n",
      "3    10\n",
      "4    98\n",
      "Name: consonants, dtype: int64\n"
     ]
    }
   ],
   "source": [
    "#consonant_groups_n = df1.consonants.apply(lambda C : len(C))\n",
    "from itertools import accumulate\n",
    "consonant_groups_sum = df1.consonants.apply(lambda C : summarize(C))\n",
    "print(consonant_groups_sum[:5])"
   ]
  },
  {
   "cell_type": "code",
   "execution_count": 28,
   "id": "207edeeb-130a-490a-8110-470fa4bba369",
   "metadata": {},
   "outputs": [],
   "source": [
    "from sklearn.ensemble import RandomForestClassifier\n",
    "from warnings import filterwarnings\n",
    "#from sklearn.tree import DecisionTreeClassifier\n",
    "from sklearn.metrics import accuracy_score\n",
    "\n",
    "filterwarnings(\"ignore\")\n",
    "\n",
    "X=pd.DataFrame(consonant_groups_sum)\n",
    "Y=consonant_group"
   ]
  },
  {
   "cell_type": "code",
   "execution_count": 29,
   "id": "a41cbeb6-8239-4115-b6f6-e8020e4ad8c4",
   "metadata": {},
   "outputs": [
    {
     "data": {
      "text/html": [
       "<div>\n",
       "<style scoped>\n",
       "    .dataframe tbody tr th:only-of-type {\n",
       "        vertical-align: middle;\n",
       "    }\n",
       "\n",
       "    .dataframe tbody tr th {\n",
       "        vertical-align: top;\n",
       "    }\n",
       "\n",
       "    .dataframe thead th {\n",
       "        text-align: right;\n",
       "    }\n",
       "</style>\n",
       "<table border=\"1\" class=\"dataframe\">\n",
       "  <thead>\n",
       "    <tr style=\"text-align: right;\">\n",
       "      <th></th>\n",
       "      <th>0</th>\n",
       "      <th>0</th>\n",
       "      <th>0</th>\n",
       "      <th>0</th>\n",
       "      <th>1</th>\n",
       "      <th>2</th>\n",
       "      <th>0</th>\n",
       "      <th>0</th>\n",
       "      <th>0</th>\n",
       "      <th>1</th>\n",
       "      <th>...</th>\n",
       "      <th>2</th>\n",
       "      <th>6</th>\n",
       "      <th>1</th>\n",
       "      <th>4</th>\n",
       "      <th>5</th>\n",
       "      <th>6</th>\n",
       "      <th>5</th>\n",
       "      <th>1</th>\n",
       "      <th>3</th>\n",
       "      <th>0</th>\n",
       "    </tr>\n",
       "  </thead>\n",
       "  <tbody>\n",
       "    <tr>\n",
       "      <th>consonants</th>\n",
       "      <td>10</td>\n",
       "      <td>10</td>\n",
       "      <td>10</td>\n",
       "      <td>10</td>\n",
       "      <td>10</td>\n",
       "      <td>10</td>\n",
       "      <td>10</td>\n",
       "      <td>10</td>\n",
       "      <td>10</td>\n",
       "      <td>10</td>\n",
       "      <td>...</td>\n",
       "      <td>10</td>\n",
       "      <td>10</td>\n",
       "      <td>10</td>\n",
       "      <td>98</td>\n",
       "      <td>87</td>\n",
       "      <td>10</td>\n",
       "      <td>87</td>\n",
       "      <td>10</td>\n",
       "      <td>10</td>\n",
       "      <td>10</td>\n",
       "    </tr>\n",
       "  </tbody>\n",
       "</table>\n",
       "<p>1 rows × 300 columns</p>\n",
       "</div>"
      ],
      "text/plain": [
       "             0   0   0   0   1   2   0   0   0   1  ...   2   6   1   4   5  \\\n",
       "consonants  10  10  10  10  10  10  10  10  10  10  ...  10  10  10  98  87   \n",
       "\n",
       "             6   5   1   3   0  \n",
       "consonants  10  87  10  10  10  \n",
       "\n",
       "[1 rows x 300 columns]"
      ]
     },
     "execution_count": 29,
     "metadata": {},
     "output_type": "execute_result"
    }
   ],
   "source": [
    "pd.DataFrame(X,Y).transpose()"
   ]
  },
  {
   "cell_type": "code",
   "execution_count": 30,
   "id": "2c153afb-ae81-41f1-a91e-b51d2df71d0f",
   "metadata": {},
   "outputs": [
    {
     "name": "stdout",
     "output_type": "stream",
     "text": [
      "accuracy :  0.8833333333333333\n"
     ]
    }
   ],
   "source": [
    "# max_acc=0\n",
    "# max_random=0\n",
    "# for r in range(51,100):\n",
    "#     print(max_acc,max_random)\n",
    "    # max_acc = max(max_acc,accuracy)\n",
    "    # if accuracy==max_acc:\n",
    "    #     max_random = r\n",
    "X_train, X_test, y_train, y_test = train_test_split(X, Y, test_size=0.2, random_state=84)\n",
    "\n",
    "consonant_interval_classification_model = RandomForestClassifier()\n",
    "consonant_interval_classification_model.fit(X_train, y_train)\n",
    "\n",
    "y_pred = consonant_interval_classification_model.predict(X_test)\n",
    "accuracy = accuracy_score(y_test, y_pred)\n",
    "print('accuracy : ',accuracy)\n",
    "#0.8833333333333333 84\n",
    "#0.9 84"
   ]
  },
  {
   "cell_type": "code",
   "execution_count": 31,
   "id": "6abe226c-aa82-42ac-936a-a2ce0f9bb7b6",
   "metadata": {},
   "outputs": [
    {
     "data": {
      "text/plain": [
       "array([6, 3, 1, 4, 3, 6, 4, 3, 1, 6, 6, 1, 0, 2, 3, 6, 0, 3, 2, 0, 6, 2,\n",
       "       3, 1, 6, 1, 2, 3, 3, 0, 6, 6, 3, 3, 0, 6, 0, 4, 2, 2, 0, 0, 6, 6,\n",
       "       3, 4, 6, 2, 6, 0, 1, 6, 2, 6, 3, 0, 2, 3, 5, 1])"
      ]
     },
     "execution_count": 31,
     "metadata": {},
     "output_type": "execute_result"
    }
   ],
   "source": [
    "y_pred"
   ]
  },
  {
   "cell_type": "markdown",
   "id": "8a3f4a3f-bd1f-4e2c-bbbd-f11592811182",
   "metadata": {},
   "source": [
    "Consolidated"
   ]
  },
  {
   "cell_type": "code",
   "execution_count": 32,
   "id": "478a4d95-c605-4ff4-a04d-57a8804bfe9b",
   "metadata": {},
   "outputs": [
    {
     "name": "stdout",
     "output_type": "stream",
     "text": [
      "9 classes\n"
     ]
    }
   ],
   "source": [
    "print(len(percent_to_int_map), \"classes\")"
   ]
  },
  {
   "cell_type": "code",
   "execution_count": 33,
   "id": "06412716-8fe6-4113-ad8e-be76530b3d35",
   "metadata": {},
   "outputs": [],
   "source": [
    "def percent_to_index(p,word,vowel_detection_radius = 1):\n",
    "    i = int()\n",
    "    N = len(word)-1\n",
    "    #using percent to index\n",
    "    wpm_pred = word_length_prediction_model.predict([[len(word)]])[0][0]\n",
    "    i = min(round(((p*N) + wpm_pred)/2),N)\n",
    "    \n",
    "    #snap to vowels\n",
    "    if word[i] not in _vowels:\n",
    "        for k in range(max(i-vowel_detection_radius,0),min(i+vowel_detection_radius,N)):\n",
    "            if word[k] in _vowels:\n",
    "                return k\n",
    "    \n",
    "    return i"
   ]
  },
  {
   "cell_type": "code",
   "execution_count": 34,
   "id": "e3fc6c30-ed85-4b56-bd08-ad1f95837bb0",
   "metadata": {},
   "outputs": [],
   "source": [
    "def predict(val): # -> class group id\n",
    "    cip = consonant_interval_classification_model.predict(val)\n",
    "    return pd.Series(cip)"
   ]
  },
  {
   "cell_type": "markdown",
   "id": "c38b2889-6cf5-4381-acc2-b75ae69d3786",
   "metadata": {},
   "source": [
    "Application Testing"
   ]
  },
  {
   "cell_type": "code",
   "execution_count": 35,
   "id": "057ba3b0-7fbb-4bd8-9611-f1e33963136c",
   "metadata": {},
   "outputs": [],
   "source": [
    "def generate_markup(_fdf):\n",
    "    result = str()\n",
    "    for i in range(len(_fdf.word)):\n",
    "        word = _fdf.word[i]\n",
    "        index = _fdf.till_indices[i] + 1\n",
    "        result += \"**\" + word[:index] + \"**\" + word[index:] + \"\\n\"\n",
    "    return result"
   ]
  },
  {
   "cell_type": "code",
   "execution_count": 36,
   "id": "2c53272b-6578-4a27-94ea-6add6bd12cef",
   "metadata": {},
   "outputs": [],
   "source": [
    "paragraph = '''\"Do Not Enter.\" The sign made it clear that they didnt want anyone around. That wasnt going to stop Jack. Jack always lived with the notion that signs were mere suggestions, not actually absolute rules. That's why the moment Jack looked at the \"Do Not Enter\" sign, he walked past it and onto their property.'''"
   ]
  },
  {
   "cell_type": "code",
   "execution_count": 37,
   "id": "6c6d7a1e-7df2-446c-897c-f80bc233f613",
   "metadata": {},
   "outputs": [],
   "source": [
    "words = pd.Series(paragraph.split(' '))\n",
    "consonants_by_interval(words)\n",
    "test_data = pd.DataFrame({'word':words,'consonants':consonants})"
   ]
  },
  {
   "cell_type": "code",
   "execution_count": 38,
   "id": "2af2ac34-cdbc-47f5-a824-f5e3cdcef8c8",
   "metadata": {},
   "outputs": [
    {
     "data": {
      "text/html": [
       "<div>\n",
       "<style scoped>\n",
       "    .dataframe tbody tr th:only-of-type {\n",
       "        vertical-align: middle;\n",
       "    }\n",
       "\n",
       "    .dataframe tbody tr th {\n",
       "        vertical-align: top;\n",
       "    }\n",
       "\n",
       "    .dataframe thead th {\n",
       "        text-align: right;\n",
       "    }\n",
       "</style>\n",
       "<table border=\"1\" class=\"dataframe\">\n",
       "  <thead>\n",
       "    <tr style=\"text-align: right;\">\n",
       "      <th></th>\n",
       "      <th>word</th>\n",
       "      <th>consonants</th>\n",
       "    </tr>\n",
       "  </thead>\n",
       "  <tbody>\n",
       "    <tr>\n",
       "      <th>0</th>\n",
       "      <td>\"Do</td>\n",
       "      <td>[1]</td>\n",
       "    </tr>\n",
       "    <tr>\n",
       "      <th>1</th>\n",
       "      <td>Not</td>\n",
       "      <td>[1]</td>\n",
       "    </tr>\n",
       "    <tr>\n",
       "      <th>2</th>\n",
       "      <td>Enter.\"</td>\n",
       "      <td>[0.6, 1]</td>\n",
       "    </tr>\n",
       "    <tr>\n",
       "      <th>3</th>\n",
       "      <td>The</td>\n",
       "      <td>[1]</td>\n",
       "    </tr>\n",
       "    <tr>\n",
       "      <th>4</th>\n",
       "      <td>sign</td>\n",
       "      <td>[1]</td>\n",
       "    </tr>\n",
       "  </tbody>\n",
       "</table>\n",
       "</div>"
      ],
      "text/plain": [
       "      word consonants\n",
       "0      \"Do        [1]\n",
       "1      Not        [1]\n",
       "2  Enter.\"   [0.6, 1]\n",
       "3      The        [1]\n",
       "4     sign        [1]"
      ]
     },
     "execution_count": 38,
     "metadata": {},
     "output_type": "execute_result"
    }
   ],
   "source": [
    "test_data.head()"
   ]
  },
  {
   "cell_type": "code",
   "execution_count": 39,
   "id": "1f03c869-c426-49bb-90ce-e905420494d7",
   "metadata": {},
   "outputs": [
    {
     "data": {
      "text/plain": [
       "0    10\n",
       "1    10\n",
       "2    76\n",
       "3    10\n",
       "4    10\n",
       "5    10\n",
       "6    10\n",
       "7    98\n",
       "8    98\n",
       "9    98\n",
       "Name: consonants, dtype: int64"
      ]
     },
     "execution_count": 39,
     "metadata": {},
     "output_type": "execute_result"
    }
   ],
   "source": [
    "#summarized consonant intervals\n",
    "test_data.consonants = test_data.consonants.apply(lambda C : summarize(C))\n",
    "test_data.consonants[:10]"
   ]
  },
  {
   "cell_type": "code",
   "execution_count": 40,
   "id": "5623ff90-9266-4d7b-892d-f83e3aa2e05b",
   "metadata": {},
   "outputs": [],
   "source": [
    "consonant_groups = predict(pd.DataFrame(test_data.consonants))\n",
    "#filtered dataframe\n",
    "fdf = pd.DataFrame([test_data['word'].to_list(),consonant_groups]).transpose()\n",
    "fdf.columns=[\"word\",\"consonant_groups\"]\n",
    "\n",
    "till_indices = list()\n",
    "for i in range(len(fdf)):\n",
    "    till_indices += [percent_to_index(int_to_percent_map[fdf.consonant_groups[i]],fdf.word[i])]\n",
    "#output dataframe\n",
    "odf = pd.DataFrame([fdf.word.to_list(),till_indices]).transpose()\n",
    "odf.columns=[\"word\",\"till_indices\"]"
   ]
  },
  {
   "cell_type": "code",
   "execution_count": 41,
   "id": "7d2aed7c-c08a-4e25-9006-f1ba05b09119",
   "metadata": {},
   "outputs": [
    {
     "data": {
      "text/html": [
       "<div>\n",
       "<style scoped>\n",
       "    .dataframe tbody tr th:only-of-type {\n",
       "        vertical-align: middle;\n",
       "    }\n",
       "\n",
       "    .dataframe tbody tr th {\n",
       "        vertical-align: top;\n",
       "    }\n",
       "\n",
       "    .dataframe thead th {\n",
       "        text-align: right;\n",
       "    }\n",
       "</style>\n",
       "<table border=\"1\" class=\"dataframe\">\n",
       "  <thead>\n",
       "    <tr style=\"text-align: right;\">\n",
       "      <th></th>\n",
       "      <th>word</th>\n",
       "      <th>till_indices</th>\n",
       "    </tr>\n",
       "  </thead>\n",
       "  <tbody>\n",
       "    <tr>\n",
       "      <th>0</th>\n",
       "      <td>\"Do</td>\n",
       "      <td>2</td>\n",
       "    </tr>\n",
       "    <tr>\n",
       "      <th>1</th>\n",
       "      <td>Not</td>\n",
       "      <td>1</td>\n",
       "    </tr>\n",
       "    <tr>\n",
       "      <th>2</th>\n",
       "      <td>Enter.\"</td>\n",
       "      <td>3</td>\n",
       "    </tr>\n",
       "    <tr>\n",
       "      <th>3</th>\n",
       "      <td>The</td>\n",
       "      <td>2</td>\n",
       "    </tr>\n",
       "    <tr>\n",
       "      <th>4</th>\n",
       "      <td>sign</td>\n",
       "      <td>1</td>\n",
       "    </tr>\n",
       "  </tbody>\n",
       "</table>\n",
       "</div>"
      ],
      "text/plain": [
       "      word till_indices\n",
       "0      \"Do            2\n",
       "1      Not            1\n",
       "2  Enter.\"            3\n",
       "3      The            2\n",
       "4     sign            1"
      ]
     },
     "execution_count": 41,
     "metadata": {},
     "output_type": "execute_result"
    }
   ],
   "source": [
    "odf.head()"
   ]
  },
  {
   "cell_type": "code",
   "execution_count": 42,
   "id": "4c350565-bf33-45ef-98e2-ea360fb7b0ae",
   "metadata": {},
   "outputs": [],
   "source": [
    "from IPython.display import display, Markdown, Latex"
   ]
  },
  {
   "cell_type": "code",
   "execution_count": 45,
   "id": "48394f7c-9e00-491f-b4a9-5471feb60f36",
   "metadata": {},
   "outputs": [
    {
     "data": {
      "text/markdown": [
       "**\"Do**\n",
       "**No**t\n",
       "**Ente**r.\"\n",
       "**The**\n",
       "**si**gn\n",
       "**ma**de\n",
       "**i**t\n",
       "**clea**r\n",
       "**tha**t\n",
       "**the**y\n",
       "**didn**t\n",
       "**wa**nt\n",
       "**anyo**ne\n",
       "**arou**nd.\n",
       "**Tha**t\n",
       "**wasn**t\n",
       "**goi**ng\n",
       "**to**\n",
       "**sto**p\n",
       "**Jack**.\n",
       "**Ja**ck\n",
       "**alwa**ys\n",
       "**live**d\n",
       "**wi**th\n",
       "**the**\n",
       "**noti**on\n",
       "**tha**t\n",
       "**sign**s\n",
       "**we**re\n",
       "**me**re\n",
       "**suggesti**ons,\n",
       "**no**t\n",
       "**actua**lly\n",
       "**abso**lute\n",
       "**rule**s.\n",
       "**Tha**t's\n",
       "**why**\n",
       "**the**\n",
       "**mome**nt\n",
       "**Ja**ck\n",
       "**loo**ked\n",
       "**a**t\n",
       "**the**\n",
       "**\"Do**\n",
       "**No**t\n",
       "**Ente**r\"\n",
       "**sign**,\n",
       "**he**\n",
       "**walk**ed\n",
       "**pa**st\n",
       "**i**t\n",
       "**and**\n",
       "**ont**o\n",
       "**thei**r\n",
       "**prope**rty.\n"
      ],
      "text/plain": [
       "<IPython.core.display.Markdown object>"
      ]
     },
     "metadata": {},
     "output_type": "display_data"
    }
   ],
   "source": [
    "display(Markdown(generate_markup(odf)))"
   ]
  },
  {
   "cell_type": "raw",
   "id": "fd6779fe-3813-4929-b6ac-6823ec2b4335",
   "metadata": {},
   "source": [
    "===================================="
   ]
  },
  {
   "cell_type": "raw",
   "id": "52f90ce4-7f39-43eb-a507-180f4ce373f0",
   "metadata": {},
   "source": [
    "2:1 avg for consonant_interval_classification_model:word_length_prediction_model"
   ]
  },
  {
   "attachments": {
    "919b4dca-b542-4ded-8566-81778ef4d592.png": {
     "image/png": "[encoded data removed]"
    }
   },
   "cell_type": "markdown",
   "id": "c61a260a-e610-40f3-9d1b-a7f784e57e87",
   "metadata": {},
   "source": [
    "![image.png](attachment:919b4dca-b542-4ded-8566-81778ef4d592.png)"
   ]
  },
  {
   "cell_type": "raw",
   "id": "0bf6e3c9-ed23-4ee9-9ed1-e8a0adbaf06a",
   "metadata": {},
   "source": [
    "1:1 avg "
   ]
  },
  {
   "attachments": {
    "851e2f88-5153-4c6b-8c93-4e873968012a.png": {
     "image/png": "[encoded data removed]"
    }
   },
   "cell_type": "markdown",
   "id": "4e2d0837-6e94-48f7-9b37-c913710f71d9",
   "metadata": {},
   "source": [
    "![image.png](attachment:851e2f88-5153-4c6b-8c93-4e873968012a.png)"
   ]
  },
  {
   "cell_type": "markdown",
   "id": "f4310eb6-048f-4145-a571-be152f073731",
   "metadata": {},
   "source": [
    "Chinnu's algorithm"
   ]
  },
  {
   "cell_type": "raw",
   "id": "1ed02494-536a-45c9-8e9e-4a63f4d68bd6",
   "metadata": {},
   "source": [
    "from math import ceil\n",
    "string=paragraph\n",
    "words = string.split(' ')\n",
    "percentage_to_bolden = 0.375\n",
    "\n",
    "result=\"\"\n",
    "\n",
    "for word in words:\n",
    "    limit = ceil(len(word) * percentage_to_bolden)\n",
    "    result = result + \" \" + \"**\" + word[:limit] + \"**\" + word[limit:]\n",
    "\n",
    "display(Markdown(result))"
   ]
  },
  {
   "attachments": {
    "c7dcd723-8165-4bee-9d08-5142cb1a4569.png": {
     "image/png": "[encoded data removed]"
    }
   },
   "cell_type": "markdown",
   "id": "11f481ec-ec23-46b6-8f14-2b0c8a39f8d3",
   "metadata": {},
   "source": [
    "![image.png](attachment:c7dcd723-8165-4bee-9d08-5142cb1a4569.png)"
   ]
  },
  {
   "cell_type": "code",
   "execution_count": null,
   "id": "c6984bb5-f929-4bc8-a509-6650a7a16aa2",
   "metadata": {},
   "outputs": [],
   "source": []
  }
 ],
 "metadata": {
  "kernelspec": {
   "display_name": "Python 3 (ipykernel)",
   "language": "python",
   "name": "python3"
  },
  "language_info": {
   "codemirror_mode": {
    "name": "ipython",
    "version": 3
   },
   "file_extension": ".py",
   "mimetype": "text/x-python",
   "name": "python",
   "nbconvert_exporter": "python",
   "pygments_lexer": "ipython3",
   "version": "3.9.2"
  }
 },
 "nbformat": 4,
 "nbformat_minor": 5
}
